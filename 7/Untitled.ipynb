{
 "cells": [
  {
   "cell_type": "code",
   "execution_count": 11,
   "metadata": {},
   "outputs": [
    {
     "name": "stdout",
     "output_type": "stream",
     "text": [
      "the whole dataframe : \n",
      " Index(['EST', 'Temperature', 'DewPoint', 'Humidity', 'Sea_Level PressureIn',\n",
      "       'VisibilityMiles', 'WindSpeedMPH', 'PrecipitationIn', 'CloudCover',\n",
      "       'Events', 'WindDirDegrees'],\n",
      "      dtype='object')\n"
     ]
    }
   ],
   "source": [
    "import pandas as pd\n",
    "df=pd.read_csv(\"nyc_weather.csv\")\n",
    "print(\"the whole dataframe : \\n\",df.columns)"
   ]
  },
  {
   "cell_type": "code",
   "execution_count": 13,
   "metadata": {},
   "outputs": [
    {
     "name": "stdout",
     "output_type": "stream",
     "text": [
      "(31, 11)\n"
     ]
    }
   ],
   "source": [
    "print(df.shape)"
   ]
  },
  {
   "cell_type": "code",
   "execution_count": 15,
   "metadata": {},
   "outputs": [
    {
     "name": "stdout",
     "output_type": "stream",
     "text": [
      "0     30.03\n",
      "1     30.02\n",
      "2     29.86\n",
      "3     30.05\n",
      "4     30.57\n",
      "5     30.50\n",
      "6     30.28\n",
      "7     30.20\n",
      "8     30.16\n",
      "9     29.59\n",
      "10    29.92\n",
      "11    29.85\n",
      "12    29.94\n",
      "13    29.95\n",
      "14    29.82\n",
      "15    29.52\n",
      "16    29.78\n",
      "17    29.83\n",
      "18    30.03\n",
      "19    30.13\n",
      "20    30.15\n",
      "21    30.21\n",
      "22    29.77\n",
      "23    29.92\n",
      "24    30.25\n",
      "25    30.03\n",
      "26    30.03\n",
      "27    29.90\n",
      "28    29.58\n",
      "29    30.01\n",
      "30    29.90\n",
      "Name: Sea_Level PressureIn, dtype: float64\n"
     ]
    }
   ],
   "source": [
    "print(df['Sea_Level PressureIn'])"
   ]
  },
  {
   "cell_type": "code",
   "execution_count": 17,
   "metadata": {},
   "outputs": [
    {
     "name": "stdout",
     "output_type": "stream",
     "text": [
      "Sea_Level PressureIn mean:  29.992903225806447\n",
      "Sea_Level PressureIn max:  30.57\n",
      "Sea_Level PressureIn min:  29.52\n"
     ]
    }
   ],
   "source": [
    "print(\"Sea_Level PressureIn mean: \",df['Sea_Level PressureIn'].mean())\n",
    "print(\"Sea_Level PressureIn max: \",df['Sea_Level PressureIn'].max())\n",
    "print(\"Sea_Level PressureIn min: \",df['Sea_Level PressureIn'].min())"
   ]
  },
  {
   "cell_type": "code",
   "execution_count": 18,
   "metadata": {},
   "outputs": [
    {
     "name": "stdout",
     "output_type": "stream",
     "text": [
      "count    31.000000\n",
      "mean     51.677419\n",
      "std      11.634395\n",
      "min      33.000000\n",
      "25%      44.500000\n",
      "50%      50.000000\n",
      "75%      55.000000\n",
      "max      78.000000\n",
      "Name: Humidity, dtype: float64\n"
     ]
    }
   ],
   "source": [
    "print(df['Humidity'].describe())"
   ]
  },
  {
   "cell_type": "code",
   "execution_count": 20,
   "metadata": {},
   "outputs": [
    {
     "name": "stdout",
     "output_type": "stream",
     "text": [
      "22    Fog-Snow\n",
      "Name: Events, dtype: object\n"
     ]
    }
   ],
   "source": [
    "print(df.Events[df.Humidity==df.Humidity.max()])"
   ]
  },
  {
   "cell_type": "code",
   "execution_count": 22,
   "metadata": {},
   "outputs": [
    {
     "name": "stdout",
     "output_type": "stream",
     "text": [
      "        EST  Temperature  DewPoint  Humidity  Sea_Level PressureIn  \\\n",
      "6  1/7/2016           39        11        33                 30.28   \n",
      "\n",
      "   VisibilityMiles  WindSpeedMPH PrecipitationIn  CloudCover Events  \\\n",
      "6               10           2.0               0           3    NaN   \n",
      "\n",
      "   WindDirDegrees  \n",
      "6             293  \n"
     ]
    }
   ],
   "source": [
    "print(df[df.Humidity==df.Humidity.min()])"
   ]
  },
  {
   "cell_type": "code",
   "execution_count": null,
   "metadata": {},
   "outputs": [],
   "source": []
  }
 ],
 "metadata": {
  "kernelspec": {
   "display_name": "Python 3",
   "language": "python",
   "name": "python3"
  },
  "language_info": {
   "codemirror_mode": {
    "name": "ipython",
    "version": 3
   },
   "file_extension": ".py",
   "mimetype": "text/x-python",
   "name": "python",
   "nbconvert_exporter": "python",
   "pygments_lexer": "ipython3",
   "version": "3.7.4"
  }
 },
 "nbformat": 4,
 "nbformat_minor": 2
}
